{
 "cells": [
  {
   "cell_type": "markdown",
   "metadata": {},
   "source": [
    "# Intro to Neural Networks\n",
    "\n",
    "<iframe src=\"https://giphy.com/embed/2bYewTk7K2No1NvcuK\" width=\"480\" height=\"269\" style=\"\" frameBorder=\"0\" class=\"giphy-embed\" allowFullScreen></iframe><p><a href=\"https://giphy.com/gifs/2bYewTk7K2No1NvcuK\">via GIPHY</a></p>\n",
    "\n",
    "In this unit we will discuss the following:\n",
    "1. Taking inspiration from the neuron \n",
    "2. Combining Neurons\n",
    "3. Stochastic gradient descent (SGD) and Loss\n",
    "4. Hyper Parameter Tuning\n",
    "5. Over/Under Fitting\n"
   ]
  },
  {
   "cell_type": "markdown",
   "metadata": {},
   "source": [
    "## Taking Inspiration from the Neuron\n",
    "\n",
    "We still do not understand 100% of how the brain works, however, naturally it seems, that if you want to have a computer learn you would try to simulate a brain. \n",
    "\n",
    "Our brain is made of neurons:\n",
    "\n",
    "![https://www.geeksforgeeks.org/single-layer-perceptron-in-tensorflow/](./images/Biological-Neuron-and-similarity-with-neural-network.png)\n",
    "\n",
    "The dendrite is the input of the neuron, the input can be an inhibitory signal, or a excitatory signal. Depending on the input the neuron will send a signal out of the axon, the output of the neuron. Inhibitory help prevent the neuron from firing and excitatory signals help the neuron to fire. These signals can be received from many oth neurons. Once the excitatory signals out weigh the inhibitory signals in some threshold the axon will fire. \n",
    "\n",
    "\n",
    "Lets try to model this with math! \n"
   ]
  },
  {
   "cell_type": "markdown",
   "metadata": {},
   "source": [
    "# The Perceptron\n",
    "\n",
    "Lets build something called a perceptron. \n",
    "\n",
    "Let us start with one dendrite, a nucleus (which will hold our threshold), and an axon. \n",
    "\n",
    "The simplest neuron we can make is one that has no threshold and passes the input to the output\n",
    "\n",
    "<img src=\"./images/perceptron1.png\" width=\"600\">\n"
   ]
  },
  {
   "cell_type": "markdown",
   "metadata": {},
   "source": [
    "Next we can add the threshold. Ideally we want to send out the axon if this is activate or not. One of our trusty friends we can use is the sigmoid!\n",
    "\n",
    "<img src=\"./images/perceptron2.png\" width=\"600\">\n",
    "\n"
   ]
  },
  {
   "cell_type": "markdown",
   "metadata": {},
   "source": [
    "<img src=\"./images/perceptron3.png\" width=\"600\">\n"
   ]
  },
  {
   "cell_type": "markdown",
   "metadata": {},
   "source": [
    "<img src=\"./images/perceptron4.png\" width=\"600\">\n"
   ]
  },
  {
   "cell_type": "markdown",
   "metadata": {},
   "source": [
    "<img src=\"./images/perceptron5.png\" width=\"600\">\n"
   ]
  },
  {
   "cell_type": "markdown",
   "metadata": {},
   "source": [
    "<img src=\"./images/MLP.png\" width=\"600\">\n"
   ]
  },
  {
   "cell_type": "markdown",
   "metadata": {},
   "source": [
    "Citations:\n",
    "https://mpfi.org/balancing-act-in-the-brain-excitatory-and-inhibitory-activity/"
   ]
  }
 ],
 "metadata": {
  "language_info": {
   "name": "python"
  }
 },
 "nbformat": 4,
 "nbformat_minor": 2
}
